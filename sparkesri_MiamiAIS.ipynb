{
 "cells": [
  {
   "cell_type": "markdown",
   "metadata": {},
   "source": [
    "## Jupyer Notebook using ESRI built-in [Spark](https://spark.apache.org/).\n",
    "\n",
    "This notebook is borrowed from Mansour's github [ESRI Spark notebook](https://github.com/mraad/spark-esri)  to demonstrate the spatial binning of AIS data around the port of Miami using Apache Spark. Mansour's notebook create the spatila bining inside ArcGIS Pro. What I tried is using notebook outside ArcGIS Pro.  \n",
    "\n",
    "The AIS broadcast data is in a FileGeodatabase that can be download from [here](https://marinecadastre.gov/ais). \n",
    "\n",
    "I download one month of data for test. It is quickly out of memoery as it has over 10 milion points just for a month data. I clipped to One milion points of data closed to the port. The spark SQL runs well.\n",
    "\n",
    "Create a new conda environment and activate it to use this notebook, as follows:\n",
    "\n",
    "- Start a `Python Command Prompt` from `Start > ArcGIS`.\n",
    "\n",
    "- Execute the following:\n",
    "\n",
    "```\n",
    "conda create --yes --name spark_esri --clone arcgispro-py3\n",
    "activate spark_esri\n",
    "pip install pyarrow\n",
    "```\n"
   ]
  },
  {
   "cell_type": "markdown",
   "metadata": {},
   "source": [
    "### Import the modules."
   ]
  },
  {
   "cell_type": "code",
   "execution_count": 1,
   "metadata": {},
   "outputs": [],
   "source": [
    "import os\n",
    "import arcpy\n",
    "from python.sparkInit import spark_start, spark_stop\n",
    "fc= r'C:\\Projects\\sparkesri\\sparkesri.gdb\\miami_AISport'"
   ]
  },
  {
   "cell_type": "markdown",
   "metadata": {},
   "source": [
    "### Start a Spark instance.\n",
    "\n",
    "Note the `config` argument to [configure the Spark instance](https://spark.apache.org/docs/latest/configuration.html)."
   ]
  },
  {
   "cell_type": "code",
   "execution_count": 2,
   "metadata": {},
   "outputs": [],
   "source": [
    "config = {\"spark.driver.memory\":\"2G\"}\n",
    "spark = spark_start(config=config)"
   ]
  },
  {
   "cell_type": "markdown",
   "metadata": {},
   "source": [
    "### Read the selected Broadcast feature shapes in WebMercator SR.\n",
    "\n",
    "I have ship AIS point feature class `fc` saved in the download `sparkesri.gdb`.\n",
    "\n",
    "Note that the `SearchCursor` is subject to the user selected features, and to an active query definition in the layer properties. For Example, set the query definition to `Stauts = 0: Under way using engine` to get the location of all moving ships, in such that we get a \"heat map\" of the port movement."
   ]
  },
  {
   "cell_type": "code",
   "execution_count": 3,
   "metadata": {},
   "outputs": [],
   "source": [
    "#fc= r'C:\\Projects\\sparkesri\\Zone17_2013_09.gdb\\Zone17_2013_09_Broadcast'\n",
    "\n",
    "sp_ref = arcpy.SpatialReference(3857)\n",
    "data = arcpy.da.SearchCursor(fc,[\"SHAPE@X\",\"SHAPE@Y\"],spatial_reference=sp_ref)\n",
    "#data = arcpy.da.SearchCursor(\"Broadcast\",[\"SHAPE@X\",\"SHAPE@Y\"],spatial_reference=sp_ref)"
   ]
  },
  {
   "cell_type": "markdown",
   "metadata": {},
   "source": [
    "### Create a Spark data frame of the read data, and create a view named 'v0'."
   ]
  },
  {
   "cell_type": "code",
   "execution_count": 4,
   "metadata": {},
   "outputs": [],
   "source": [
    "spark\\\n",
    "    .createDataFrame(data,\"x double,y double\")\\\n",
    "    .createOrReplaceTempView(\"v0\")"
   ]
  },
  {
   "cell_type": "markdown",
   "metadata": {},
   "source": [
    "### Aggregate the data at 200x200 meters bins.\n",
    "\n",
    "The aggregation is performed by Spark as a SQL statement in a parallel share-nothing way and the resulting bins are collected back in the `rows` array variable.\n",
    "\n",
    "This is a nested SQL expression, where the inner expression is mapping the input `x` and `y` into `q` and `r` cell locations given a user defined bin size, and the outter expression is aggreating as a sum the `q` and `r` pairs. Finally, `q` and `r` are mapped back to `x` and `y` to enble the placement on a map. "
   ]
  },
  {
   "cell_type": "code",
   "execution_count": 5,
   "metadata": {},
   "outputs": [],
   "source": [
    "cell0 = 200.0 # meters\n",
    "cell1 = cell0 * 0.5\n",
    "\n",
    "rows = spark\\\n",
    "    .sql(f\"\"\"\n",
    "select q*{cell0}+{cell1} x,r*{cell0}+{cell1} y,least(count(1),1000) as pop\n",
    "from\n",
    "(select cast(x/{cell0} as long) q,cast(y/{cell0} as long) r from v0)\n",
    "group by q,r\n",
    "\"\"\")\\\n",
    "    .collect()"
   ]
  },
  {
   "cell_type": "markdown",
   "metadata": {},
   "source": [
    "### Create an in-memory point feature class of the collected bins.\n",
    "\n",
    "The variable `rows` is an array of form `[[x0,y0,pop0],[x1,y1,pop1],...,[xN,yN,popN]]`."
   ]
  },
  {
   "cell_type": "code",
   "execution_count": 6,
   "metadata": {},
   "outputs": [],
   "source": [
    "ws = \"memory\"\n",
    "nm = \"Bins\"\n",
    "\n",
    "fc = os.path.join(ws,nm)\n",
    "\n",
    "arcpy.management.Delete(fc)\n",
    "\n",
    "sp_ref = arcpy.SpatialReference(3857)\n",
    "arcpy.management.CreateFeatureclass(ws,nm,\"POINT\",spatial_reference=sp_ref)\n",
    "arcpy.management.AddField(fc, \"POP\", \"LONG\")\n",
    "\n",
    "with arcpy.da.InsertCursor(fc, [\"SHAPE@X\",\"SHAPE@Y\", \"POP\"]) as cursor:\n",
    "    for row in rows:\n",
    "        cursor.insertRow(row)"
   ]
  },
  {
   "cell_type": "markdown",
   "metadata": {},
   "source": [
    "### Apply a graduated colors symbology to highlight the bins."
   ]
  },
  {
   "cell_type": "code",
   "execution_count": 7,
   "metadata": {},
   "outputs": [
    {
     "name": "stdout",
     "output_type": "stream",
     "text": [
      "memory\\Bins\n"
     ]
    }
   ],
   "source": [
    "print (os.path.join(ws,nm))"
   ]
  },
  {
   "cell_type": "code",
   "execution_count": 8,
   "metadata": {},
   "outputs": [],
   "source": [
    "#_ = arcpy.ApplySymbologyFromLayer_management(fc, f\"{nm}.lyrx\")"
   ]
  },
  {
   "cell_type": "code",
   "execution_count": 8,
   "metadata": {},
   "outputs": [],
   "source": [
    "import pandas as pd\n",
    "\n",
    "from arcgis.gis import GIS"
   ]
  },
  {
   "cell_type": "code",
   "execution_count": 11,
   "metadata": {},
   "outputs": [],
   "source": [
    "gis = GIS()\n",
    "m_map = gis.map(location = 'Miami, FL', zoomlevel = 12)\n",
    "#m_map"
   ]
  },
  {
   "cell_type": "code",
   "execution_count": 14,
   "metadata": {},
   "outputs": [
    {
     "data": {
      "application/vnd.jupyter.widget-view+json": {
       "model_id": "7a2115ac2b184173804d7589efd8d84f",
       "version_major": 2,
       "version_minor": 0
      },
      "text/plain": [
       "MapView(jupyter_target='notebook', layout=Layout(height='400px', width='100%'), ready=True)"
      ]
     },
     "metadata": {},
     "output_type": "display_data"
    },
    {
     "data": {
      "text/html": [
       "<div class=\"map-static-img-preview-6188ec80-08a4-440a-84d3-f16b6d78f03d\"><img src=\"\"></img></div>"
      ],
      "text/plain": [
       "<IPython.core.display.HTML object>"
      ]
     },
     "metadata": {},
     "output_type": "display_data"
    }
   ],
   "source": [
    "# load your feature class into a spatially enabled dataframe (sedf)\n",
    "m_sedf = pd.DataFrame.spatial.from_featureclass(fc)\n",
    "# plot the sedf on your map\n",
    "m_sedf.spatial.plot(map_widget = m_map,\n",
    "        renderer_type='c',  # for class breaks renderer\n",
    "        method='esriClassifyNaturalBreaks',  # classification algorithm\n",
    "        class_count=5,  # choose the number of classes\n",
    "        col='POP',  # numeric column to classify\n",
    "        cmap='prism',  # color map to pick colors from for each class\n",
    "        alpha=0.7  # specify opacity\n",
    "       )\n",
    " # show the map\n",
    "\n",
    "m_map"
   ]
  },
  {
   "cell_type": "markdown",
   "metadata": {},
   "source": [
    "### Stop the spark instance."
   ]
  },
  {
   "cell_type": "code",
   "execution_count": 15,
   "metadata": {},
   "outputs": [],
   "source": [
    "spark_stop()"
   ]
  }
 ],
 "metadata": {
  "kernelspec": {
   "display_name": "Python 3",
   "language": "python",
   "name": "python3"
  },
  "language_info": {
   "codemirror_mode": {
    "name": "ipython",
    "version": 3
   },
   "file_extension": ".py",
   "mimetype": "text/x-python",
   "name": "python",
   "nbconvert_exporter": "python",
   "pygments_lexer": "ipython3",
   "version": "3.6.10"
  }
 },
 "nbformat": 4,
 "nbformat_minor": 4
}
