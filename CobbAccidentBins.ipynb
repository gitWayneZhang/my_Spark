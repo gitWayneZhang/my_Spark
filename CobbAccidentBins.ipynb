{
 "cells": [
  {
   "cell_type": "markdown",
   "metadata": {},
   "source": [
    "## Jupyer Notebook using ESRI built-in [Spark](https://spark.apache.org/).\n",
    "\n",
    "This notebook is borrowed from Mansour's github [ESRI Spark notebook](https://github.com/mraad/spark-esri)  to demonstrate the spatial binning of Cobb Accident data around 1978-2018. Mansour's notebook create the spatila bining inside ArcGIS Pro. What I tried is using notebook outside ArcGIS Pro.  \n",
    "\n",
    "About half milliion records.\n",
    "\n",
    "Create a new conda environment and activate it to use this notebook, as follows:\n",
    "\n",
    "- Start a `Python Command Prompt` from `Start > ArcGIS`.\n",
    "\n",
    "- Execute the following:\n",
    "\n",
    "```\n",
    "conda create --yes --name spark_esri --clone arcgispro-py3\n",
    "activate spark_esri\n",
    "pip install pyarrow\n",
    "```"
   ]
  },
  {
   "cell_type": "markdown",
   "metadata": {},
   "source": [
    "### Import the modules."
   ]
  },
  {
   "cell_type": "code",
   "execution_count": 37,
   "metadata": {},
   "outputs": [],
   "source": [
    "import os\n",
    "import arcpy\n",
    "from python.sparkInit import spark_start, spark_stop\n",
    "fc= r'C:\\projects\\ESRICrash\\CobbDatafgdb.gdb\\accidentsReports'"
   ]
  },
  {
   "cell_type": "markdown",
   "metadata": {},
   "source": [
    "### Start a Spark instance.\n",
    "\n",
    "Note the `config` argument to [configure the Spark instance](https://spark.apache.org/docs/latest/configuration.html)."
   ]
  },
  {
   "cell_type": "code",
   "execution_count": 38,
   "metadata": {},
   "outputs": [],
   "source": [
    "config = {\"spark.driver.memory\":\"2G\"}\n",
    "spark = spark_start(config=config)"
   ]
  },
  {
   "cell_type": "markdown",
   "metadata": {},
   "source": [
    "### Read the selected Broadcast feature shapes in WebMercator SR.\n",
    "\n",
    "It is assumed that you added to the map the `Broadcast` point feature class from the download `miami.gdb`.\n",
    "\n",
    "Note that the `SearchCursor` is subject to the user selected features, and to an active query definition in the layer properties. For Example, set the query definition to `Stauts = 0: Under way using engine` to get the location of all moving ships, in such that we get a \"heat map\" of the port movement."
   ]
  },
  {
   "cell_type": "code",
   "execution_count": 39,
   "metadata": {},
   "outputs": [],
   "source": [
    "#fc= r'C:\\Users\\zhangc\\Documents\\ArcGIS\\Projects\\sparkesri\\Zone17_2013_09.gdb\\Zone17_2013_09_Broadcast'\n",
    "\n",
    "sp_ref = arcpy.SpatialReference(3857)\n",
    "data = arcpy.da.SearchCursor(fc,[\"SHAPE@X\",\"SHAPE@Y\"],spatial_reference=sp_ref)\n",
    "#data = arcpy.da.SearchCursor(\"Broadcast\",[\"SHAPE@X\",\"SHAPE@Y\"],spatial_reference=sp_ref)"
   ]
  },
  {
   "cell_type": "markdown",
   "metadata": {},
   "source": [
    "### Create a Spark data frame of the read data, and create a view named 'v0'."
   ]
  },
  {
   "cell_type": "code",
   "execution_count": 40,
   "metadata": {},
   "outputs": [],
   "source": [
    "spark\\\n",
    "    .createDataFrame(data,\"x double,y double\")\\\n",
    "    .createOrReplaceTempView(\"v0\")"
   ]
  },
  {
   "cell_type": "markdown",
   "metadata": {},
   "source": [
    "### Aggregate the data at 200x200 meters bins.\n",
    "\n",
    "The aggregation is performed by Spark as a SQL statement in a parallel share-nothing way and the resulting bins are collected back in the `rows` array variable.\n",
    "\n",
    "This is a nested SQL expression, where the inner expression is mapping the input `x` and `y` into `q` and `r` cell locations given a user defined bin size, and the outter expression is aggreating as a sum the `q` and `r` pairs. Finally, `q` and `r` are mapped back to `x` and `y` to enble the placement on a map. "
   ]
  },
  {
   "cell_type": "code",
   "execution_count": 41,
   "metadata": {},
   "outputs": [],
   "source": [
    "cell0 = 50.0 # meters\n",
    "cell1 = cell0 * 0.5\n",
    "\n",
    "rows = spark\\\n",
    "    .sql(f\"\"\"\n",
    "select q*{cell0}+{cell1} x,r*{cell0}+{cell1} y,least(count(1),1000) as pop\n",
    "from\n",
    "(select cast(x/{cell0} as long) q,cast(y/{cell0} as long) r from v0)\n",
    "group by q,r\n",
    "\"\"\")\\\n",
    "    .collect()"
   ]
  },
  {
   "cell_type": "markdown",
   "metadata": {},
   "source": [
    "### Create an in-memory point feature class of the collected bins.\n",
    "\n",
    "The variable `rows` is an array of form `[[x0,y0,pop0],[x1,y1,pop1],...,[xN,yN,popN]]`."
   ]
  },
  {
   "cell_type": "code",
   "execution_count": 42,
   "metadata": {},
   "outputs": [],
   "source": [
    "ws = \"memory\"\n",
    "nm = \"Bins\"\n",
    "\n",
    "fc = os.path.join(ws,nm)\n",
    "\n",
    "arcpy.management.Delete(fc)\n",
    "\n",
    "sp_ref = arcpy.SpatialReference(3857)\n",
    "arcpy.management.CreateFeatureclass(ws,nm,\"POINT\",spatial_reference=sp_ref)\n",
    "arcpy.management.AddField(fc, \"POP\", \"LONG\")\n",
    "\n",
    "with arcpy.da.InsertCursor(fc, [\"SHAPE@X\",\"SHAPE@Y\", \"POP\"]) as cursor:\n",
    "    for row in rows:\n",
    "        cursor.insertRow(row)"
   ]
  },
  {
   "cell_type": "markdown",
   "metadata": {},
   "source": [
    "### Apply a naturalbreak classification to highlight the bins."
   ]
  },
  {
   "cell_type": "code",
   "execution_count": 43,
   "metadata": {},
   "outputs": [
    {
     "name": "stdout",
     "output_type": "stream",
     "text": [
      "memory\\Bins\n"
     ]
    }
   ],
   "source": [
    "print (os.path.join(ws,nm))"
   ]
  },
  {
   "cell_type": "code",
   "execution_count": 8,
   "metadata": {},
   "outputs": [],
   "source": [
    "#_ = arcpy.ApplySymbologyFromLayer_management(fc, f\"{nm}.lyrx\")"
   ]
  },
  {
   "cell_type": "code",
   "execution_count": 75,
   "metadata": {},
   "outputs": [],
   "source": [
    "import pandas as pd\n",
    "from arcgis.gis import GIS\n",
    "#from arcgis.widgets import MapView"
   ]
  },
  {
   "cell_type": "code",
   "execution_count": 76,
   "metadata": {},
   "outputs": [],
   "source": [
    "gis = GIS()\n",
    "m_map = gis.map(location = 'Marietta, GA', zoomlevel = 10)\n",
    "#m_map"
   ]
  },
  {
   "cell_type": "code",
   "execution_count": 77,
   "metadata": {},
   "outputs": [
    {
     "data": {
      "application/vnd.jupyter.widget-view+json": {
       "model_id": "e2e0a5c0812f47ca915646a513110cf3",
       "version_major": 2,
       "version_minor": 0
      },
      "text/plain": [
       "MapView(layout=Layout(height='400px', width='100%'))"
      ]
     },
     "metadata": {},
     "output_type": "display_data"
    },
    {
     "data": {
      "text/html": [
       "<div class=\"map-static-img-preview-cf8582c1-d20b-4855-8229-5e9b5cc94074\"><img src=\"\"></img></div>"
      ],
      "text/plain": [
       "<IPython.core.display.HTML object>"
      ]
     },
     "metadata": {},
     "output_type": "display_data"
    }
   ],
   "source": [
    "# load your feature class into a spatially enabled dataframe (sedf)\n",
    "m_sedf = pd.DataFrame.spatial.from_featureclass(fc)\n",
    "# plot the sedf on your map\n",
    "m_sedf.spatial.plot(map_widget = m_map,\n",
    "        renderer_type='c',  # for class breaks renderer\n",
    "        method='esriClassifyNaturalBreaks',  # classification algorithm\n",
    "        class_count=5,  # choose the number of classes\n",
    "        col='POP',  # numeric column to classify\n",
    "#        cmap='Dark2',  # color map to pick colors from for each class\n",
    "        cmap='prism',  # color map to pick colors from for each class\n",
    "        alpha=0.7  # specify opacity\n",
    "       )\n",
    " # show the map\n",
    "# mapview=MapView(gis=gis, item=m_sedf)\n",
    "# mapview.legend=True\n",
    "# mapview\n",
    "m_map"
   ]
  },
  {
   "cell_type": "code",
   "execution_count": 88,
   "metadata": {},
   "outputs": [
    {
     "name": "stdout",
     "output_type": "stream",
     "text": [
      "1.0 - 250.75 250.75\n",
      "250.75 - 500.5 500.5\n",
      "500.5 - 750.25 750.25\n",
      "750.25 - 1000.0 1000.0\n",
      "1000.0 - 1000.0 1000.0\n"
     ]
    }
   ],
   "source": [
    "cbs_list = [1]\n",
    "cmap_list = []\n",
    "class_breaks = m_map.layers[0].layer.layerDefinition.drawingInfo.renderer.classBreakInfos\n",
    "for cb in class_breaks:\n",
    "    print(cb.description, cb.classMaxValue)  # print the class break labels\n",
    "    cbs_list.append(cb.classMaxValue)\n",
    "    cmap_list.append([x/255.0 for x in cb.symbol.color])\n"
   ]
  },
  {
   "cell_type": "code",
   "execution_count": 92,
   "metadata": {},
   "outputs": [
    {
     "data": {
      "text/plain": [
       "Text(0.5, 1.0, 'Histogram of Bin counts')"
      ]
     },
     "execution_count": 92,
     "metadata": {},
     "output_type": "execute_result"
    },
    {
     "data": {
      "image/png": "[encoded data removed]",
      "text/plain": [
       "<Figure size 432x288 with 1 Axes>"
      ]
     },
     "metadata": {
      "needs_background": "light"
     },
     "output_type": "display_data"
    }
   ],
   "source": [
    "import matplotlib.pyplot as plt\n",
    "import numpy as np\n",
    "# build a histogram for the same class breaks\n",
    "n, bins, patches = plt.hist(m_sedf['POP'], bins=cbs_list)\n",
    "\n",
    "# apply the same color for each class to match the map\n",
    "idx = 0\n",
    "for c, p in zip(bins, patches):\n",
    "    plt.setp(p, 'facecolor', cmap_list[idx])\n",
    "    idx+=1\n",
    "plt.title('Histogram of Bin counts')"
   ]
  },
  {
   "cell_type": "markdown",
   "metadata": {},
   "source": [
    "### Stop the spark instance."
   ]
  },
  {
   "cell_type": "code",
   "execution_count": 93,
   "metadata": {},
   "outputs": [],
   "source": [
    "spark_stop()"
   ]
  }
 ],
 "metadata": {
  "kernelspec": {
   "display_name": "Python 3",
   "language": "python",
   "name": "python3"
  },
  "language_info": {
   "codemirror_mode": {
    "name": "ipython",
    "version": 3
   },
   "file_extension": ".py",
   "mimetype": "text/x-python",
   "name": "python",
   "nbconvert_exporter": "python",
   "pygments_lexer": "ipython3",
   "version": "3.6.10"
  }
 },
 "nbformat": 4,
 "nbformat_minor": 4
}
