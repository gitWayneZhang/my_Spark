{
 "cells": [
  {
   "cell_type": "markdown",
   "metadata": {},
   "source": [
    "## Benford's law -- Jupyer Notebook using ESRI built-in [Apache Spark](https://spark.apache.org/).\n",
    "\n",
    "### Apache Spark™ is a unified analytics engine for large-scale data processing.\n",
    "\n",
    "This notebook is borrowed from Mansour's github [ESRI Spark notebook](https://github.com/mraad/spark-esri) to talk about [**Benford Law**](https://en.wikipedia.org/wiki/Benford%27s_law). When I read his NY Trip duration demonstration, I was very curious and was eager to use a different dataset to see how the result will be. \n",
    "\n",
    "I used a Cobb accident report from the year 1980-2018 about half a million records. There are roughly 150,000 valid distance records.Obviously the more data, the more convincing. The data has time stamp and also X,Y coordinate which are certainly not a good choice for first digit. Because they are not natrually occurrences. There is an attribute which shows accident distance to intersection which is a good candidate. Although I did not get perfect Benford curve because of NUMBER 5 does show more of occurences but it is interesting enough to see the kind of MIND BLOWN effect as Mansour did in his notebook.\n",
    "\n",
    "Create a new conda environment and activate it to use this notebook, as follows:\n",
    "\n",
    "- Start a `Python Command Prompt` from `Start > ArcGIS`.\n",
    "\n",
    "- Execute the following:\n",
    "\n",
    "```\n",
    "conda create --yes --name spark_esri --clone arcgispro-py3\n",
    "activate spark_esri\n",
    "pip install pyarrow\n",
    "```"
   ]
  },
  {
   "cell_type": "markdown",
   "metadata": {},
   "source": [
    "### Import the modules."
   ]
  },
  {
   "cell_type": "code",
   "execution_count": 1,
   "metadata": {},
   "outputs": [],
   "source": [
    "import os\n",
    "import arcpy\n",
    "import numpy as np\n",
    "import pandas as pd\n",
    "#import seaborn as sms\n",
    "import matplotlib.pyplot as plt\n",
    "from python.sparkInit import spark_start, spark_stop\n",
    "fc= r'C:\\projects\\Crash\\CobbDatafgdb.gdb\\accidentsReports_1'"
   ]
  },
  {
   "cell_type": "markdown",
   "metadata": {},
   "source": [
    "### Start a Spark instance.\n",
    "\n",
    "Note the `config` argument to [configure the Spark instance](https://spark.apache.org/docs/latest/configuration.html)."
   ]
  },
  {
   "cell_type": "code",
   "execution_count": 2,
   "metadata": {},
   "outputs": [],
   "source": [
    "config = {\"spark.driver.memory\":\"2G\"}\n",
    "spark = spark_start(config=config)"
   ]
  },
  {
   "cell_type": "markdown",
   "metadata": {},
   "source": [
    "### Read the selected accident feature shapes in WebMercator SR."
   ]
  },
  {
   "cell_type": "code",
   "execution_count": 28,
   "metadata": {},
   "outputs": [],
   "source": [
    "#fc= r'C:\\Users\\zhangc\\Documents\\ArcGIS\\Projects\\sparkesri\\Zone17_2013_09.gdb\\Zone17_2013_09_Broadcast'\n",
    "\n",
    "sp_ref = arcpy.SpatialReference(3857)\n",
    "data = arcpy.da.SearchCursor(fc,[\"DISTFROMINTERSECTION\",\"SHAPE@X\",\"SHAPE@Y\"],spatial_reference=sp_ref)\n",
    "#data = arcpy.da.SearchCursor(\"Broadcast\",[\"SHAPE@X\",\"SHAPE@Y\"],spatial_reference=sp_ref)"
   ]
  },
  {
   "cell_type": "markdown",
   "metadata": {},
   "source": [
    "### Create a Spark data frame of the read data, and create a view named 'v0'."
   ]
  },
  {
   "cell_type": "code",
   "execution_count": 29,
   "metadata": {},
   "outputs": [],
   "source": [
    "spark\\\n",
    "    .createDataFrame(data,\"distInter long, x double,y double\")\\\n",
    "    .createOrReplaceTempView(\"v0\")"
   ]
  },
  {
   "cell_type": "code",
   "execution_count": 30,
   "metadata": {},
   "outputs": [
    {
     "name": "stderr",
     "output_type": "stream",
     "text": [
      "c:\\program files\\arcgis\\pro\\Java\\runtime\\spark\\python\\lib\\pyspark.zip\\pyspark\\sql\\dataframe.py:2103: UserWarning: toPandas attempted Arrow optimization because 'spark.sql.execution.arrow.enabled' is set to true; however, failed by the reason below:\n",
      "  PyArrow >= 0.8.0 must be installed; however, it was not found.\n",
      "Attempting non-optimization as 'spark.sql.execution.arrow.fallback.enabled' is set to true.\n",
      "  warnings.warn(msg)\n"
     ]
    }
   ],
   "source": [
    "pdf = spark.sql(f\"\"\"\n",
    "select distg,count(1) pop\n",
    "from(\n",
    "select substr(cast(distInter as string),0,1) distg\n",
    "from v0\n",
    "where distInter > 0\n",
    ")\n",
    "group by distg\n",
    "order by distg\n",
    "\"\"\")\\\n",
    "    .toPandas()"
   ]
  },
  {
   "cell_type": "code",
   "execution_count": 31,
   "metadata": {},
   "outputs": [],
   "source": [
    "pdf['pct'] = 100.0 * pdf['pop'] / pdf['pop'].sum()"
   ]
  },
  {
   "cell_type": "markdown",
   "metadata": {},
   "source": [
    "###  Benford values.."
   ]
  },
  {
   "cell_type": "code",
   "execution_count": 32,
   "metadata": {},
   "outputs": [],
   "source": [
    "benford = 100.0 * np.log10(1.0+1.0/np.arange(1,10,1))"
   ]
  },
  {
   "cell_type": "markdown",
   "metadata": {},
   "source": [
    "Plot the occurence and the Benford curve."
   ]
  },
  {
   "cell_type": "code",
   "execution_count": 36,
   "metadata": {},
   "outputs": [
    {
     "data": {
      "image/png": "[encoded data removed]",
      "text/plain": [
       "<Figure size 1080x360 with 1 Axes>"
      ]
     },
     "metadata": {
      "needs_background": "light"
     },
     "output_type": "display_data"
    }
   ],
   "source": [
    "plt.figure(figsize=(15,5))\n",
    "bar = plt.bar(pdf['distg'],pdf['pct'], label='Percent of Occurence')\n",
    "plt.plot(pdf['distg'], benford, 'r', label='Benford Curve')\n",
    "plt.xlabel('First Digit of Accident distance to intersection')\n",
    "# plt.xticks(rotation=90)\n",
    "plt.legend()\n",
    "plt.show()"
   ]
  },
  {
   "cell_type": "markdown",
   "metadata": {},
   "source": [
    "## Look at the curve! I am kind of WOW##"
   ]
  },
  {
   "cell_type": "markdown",
   "metadata": {},
   "source": [
    "### Stop the spark instance."
   ]
  },
  {
   "cell_type": "code",
   "execution_count": 34,
   "metadata": {},
   "outputs": [],
   "source": [
    "spark_stop()"
   ]
  }
 ],
 "metadata": {
  "kernelspec": {
   "display_name": "Python 3",
   "language": "python",
   "name": "python3"
  },
  "language_info": {
   "codemirror_mode": {
    "name": "ipython",
    "version": 3
   },
   "file_extension": ".py",
   "mimetype": "text/x-python",
   "name": "python",
   "nbconvert_exporter": "python",
   "pygments_lexer": "ipython3",
   "version": "3.6.10"
  }
 },
 "nbformat": 4,
 "nbformat_minor": 4
}
