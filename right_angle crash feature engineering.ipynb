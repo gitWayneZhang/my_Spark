{
 "cells": [
  {
   "cell_type": "markdown",
   "metadata": {},
   "source": [
    "## Cobb County right angle crash data feature engineering\n",
    "### Import the modules and libraries."
   ]
  },
  {
   "cell_type": "code",
   "execution_count": 1,
   "metadata": {},
   "outputs": [],
   "source": [
    "import os\n",
    "import arcpy\n",
    "import numpy as np\n",
    "import pandas as pd\n",
    "import matplotlib.pyplot as plt\n",
    "import datetime\n",
    "import astral\n",
    "from astral import LocationInfo\n",
    "from astral.sun import sun\n",
    "%matplotlib inline\n"
   ]
  },
  {
   "cell_type": "markdown",
   "metadata": {},
   "source": [
    "### Preprocess data\n",
    "Add several fields and do the spatial joins to add aadt and intersection to the crash data.\n",
    "Calculate curvature of the roads and add to the road feature class\n",
    "Copy the population density feature to gdb"
   ]
  },
  {
   "cell_type": "code",
   "execution_count": 3,
   "metadata": {},
   "outputs": [],
   "source": [
    "# some data that needs to be processed\n",
    "prjPath=r'C:\\projects\\ESRICrash\\CrashAnalysisDOT\\CobbCrashAnalysis\\CobbCrashAnalysis.gdb'\n",
    "fc= os.path.join(prjPath,'crash_3yr')\n",
    "intersection =os.path.join(prjPath,'intersections')\n",
    "AADT =os.path.join(prjPath,'traffic_counts')\n",
    "traffic_flow=os.path.join(prjPath,'traffic_flow')\n",
    "gdotAADT=os.path.join(prjPath,'AADT_2018_19yr_XY_Clip')\n",
    "cobbRoads = os.path.join(prjPath,'CobbRoads')\n",
    "pop_url='https://services.arcgis.com/P3ePLMYs2RVChkJx/arcgis/rest/services/USA_Census_BlockGroup_Areas_analysis_trim/FeatureServer/0'\n",
    "arcpy.env.workspace=prjPath\n",
    "arcpy.env.overwriteOutput=True\n"
   ]
  },
  {
   "cell_type": "code",
   "execution_count": 22,
   "metadata": {},
   "outputs": [],
   "source": [
    "##_=arcpy.management.CopyFeatures(in_features=pop_url,out_feature_class='population')\n",
    "##_=arcpy.management.AddFields('population',[['pop_density','Double']])\n",
    "_=arcpy.management.CopyFeatures(in_features=pop_url,out_feature_class='population_wm')\n",
    "_=arcpy.management.AddFields('population_wm',[['pop_density','Double']])"
   ]
  },
  {
   "cell_type": "code",
   "execution_count": 23,
   "metadata": {},
   "outputs": [
    {
     "name": "stdout",
     "output_type": "stream",
     "text": [
      "['OBJECTID', 'Shape', 'FIPS', 'COUNTY', 'STATE', 'POPULATION', 'SQMI', 'Shape_Length', 'Shape_Area', 'pop_density']\n"
     ]
    }
   ],
   "source": [
    "print ([f.name for f in arcpy.ListFields('population_wm')])"
   ]
  },
  {
   "cell_type": "code",
   "execution_count": 25,
   "metadata": {},
   "outputs": [],
   "source": [
    "# select only Cobb County and create new feature class\n",
    "popwm=arcpy.SelectLayerByAttribute_management('population_wm', 'NEW_SELECTION', \n",
    "                                        \"COUNTY = 'Cobb'\")\n",
    "# Write the selected features to a new feature class\n",
    "_=arcpy.management.CopyFeatures(popwm, 'cobbPopulation_wm')"
   ]
  },
  {
   "cell_type": "code",
   "execution_count": 27,
   "metadata": {},
   "outputs": [],
   "source": [
    "##project to Georgia state plane west\n",
    "out_coordinate_system = arcpy.SpatialReference(102667)\n",
    "_=arcpy.Project_management('cobbPopulation_wm', 'cobbPopulation', out_coordinate_system)\n"
   ]
  },
  {
   "cell_type": "code",
   "execution_count": 35,
   "metadata": {},
   "outputs": [],
   "source": [
    "# population density/per sq mile\n",
    "density_cal=\\\n",
    "\"\"\"\n",
    "def popDensity(pop, area):\n",
    "   try:\n",
    "      return pop*1.0/area\n",
    "   except:\n",
    "      return 0.0\n",
    "\"\"\"\n",
    "_=arcpy.management.CalculateField('cobbPopulation', 'pop_density', 'popDensity(!POPULATION!,!SQMI!)', \n",
    "                                  code_block=density_cal)"
   ]
  },
  {
   "cell_type": "code",
   "execution_count": 4,
   "metadata": {},
   "outputs": [],
   "source": [
    "#spatial join  crash data with the population fc\n",
    "field_mappings=arcpy.FieldMappings()\n",
    "field_mappings.addTable(fc)\n",
    "features_fields=arcpy.FieldMap()\n",
    "features_fields.addInputField('cobbPopulation','pop_density')\n",
    "field_mappings.addFieldMap(features_fields)\n",
    "_=arcpy.analysis.SpatialJoin(fc,'cobbPopulation','crash_3yr_with_pop',join_type='KEEP_ALL',\n",
    "                             match_option='intersects',field_mapping=field_mappings)"
   ]
  },
  {
   "cell_type": "code",
   "execution_count": 5,
   "metadata": {},
   "outputs": [],
   "source": [
    "\n",
    "#add several new fields to the crash fc\n",
    "fields=[['proximity_nearest_intersection','double']]  \n",
    "_=arcpy.management.AddFields('crash_3yr_with_pop',fields)\n"
   ]
  },
  {
   "cell_type": "code",
   "execution_count": 6,
   "metadata": {},
   "outputs": [],
   "source": [
    "#Cal proximity to intersection\n",
    "_=arcpy.analysis.Near('crash_3yr_with_pop',intersection)\n",
    "_=arcpy.management.CalculateField('crash_3yr_with_pop','proximity_nearest_intersection','!NEAR_DIST!')\n",
    "_=arcpy.management.DeleteField('crash_3yr_with_pop',['NEAR_DIST','NEAR_FID'])"
   ]
  },
  {
   "cell_type": "code",
   "execution_count": 52,
   "metadata": {},
   "outputs": [],
   "source": [
    "#prepare AADT Data, since Cobb AADT has lots of gaps. We can merge GDOT AADT with Cobb AADT data to improve data quality\n",
    "# first to add a common field in GDOT AADT FC \n",
    "AADTfld=[['ADT','long']]\n",
    "_=arcpy.management.AddFields(gdotAADT,AADTfld)\n",
    "_=arcpy.management.CalculateField(gdotAADT,'ADT','!AADT_2019!')"
   ]
  },
  {
   "cell_type": "code",
   "execution_count": 53,
   "metadata": {},
   "outputs": [],
   "source": [
    "#Merge GDOT AADT with Cobb AADT data to fill data gaps\n",
    "_=arcpy.management.DeleteField(gdotAADT,['AADT_2019','AADT_2018','STATION_ID'])\n",
    "_=arcpy.management.Merge([AADT,gdotAADT],'AADT_merged')"
   ]
  },
  {
   "cell_type": "code",
   "execution_count": 54,
   "metadata": {},
   "outputs": [],
   "source": [
    "#Del duplicate fields\n",
    "_=arcpy.management.DeleteField('AADT_merged',['X','Y'])"
   ]
  },
  {
   "cell_type": "code",
   "execution_count": 56,
   "metadata": {},
   "outputs": [],
   "source": [
    "#curvature\n",
    "curv=\\\n",
    "\"\"\"\n",
    "import math\n",
    "def curv(shp):\n",
    "  x1=shp.firstPoint.x\n",
    "  y1=shp.firstPoint.y\n",
    "  x2=shp.lastPoint.x\n",
    "  y2=shp.lastPoint.y\n",
    "  \n",
    "  eucliDistance=math.sqrt((x2-x1)**2+(y2-y1)**2)\n",
    "  l=shp.length\n",
    "  if eucliDistance>0:\n",
    "     return l/eucliDistance\n",
    "  return 1.0\n",
    "\"\"\""
   ]
  },
  {
   "cell_type": "code",
   "execution_count": 57,
   "metadata": {},
   "outputs": [],
   "source": [
    "#add curvature field to the CobbRoads fc\n",
    "curvfld=[['curv','double']]\n",
    "_=arcpy.management.AddFields(cobbRoads,curvfld)\n",
    "_=arcpy.management.CalculateField(cobbRoads,'curv','curv(!Shape!)', code_block=curv)"
   ]
  },
  {
   "cell_type": "code",
   "execution_count": 58,
   "metadata": {},
   "outputs": [],
   "source": [
    "#spatial join AADT to the CobbRoads\n",
    "\n",
    "_=arcpy.analysis.SpatialJoin(cobbRoads,'AADT_merged','CobbRoads_aadt',match_option='closest', search_radius='260 feet')"
   ]
  },
  {
   "cell_type": "code",
   "execution_count": 61,
   "metadata": {},
   "outputs": [],
   "source": [
    "#spatial join  crash data with the traffic flow \n",
    "field_mappings=arcpy.FieldMappings()\n",
    "field_mappings.addTable('CobbRoads_aadt')\n",
    "features_fields=arcpy.FieldMap()\n",
    "features_fields.addInputField(traffic_flow,'AADT')\n",
    "field_mappings.addFieldMap(features_fields)\n",
    "_=arcpy.analysis.SpatialJoin('CobbRoads_aadt',traffic_flow,'CobbRoads_AADT_flow',join_type='KEEP_ALL',\n",
    "                             match_option='intersects',field_mapping=field_mappings,search_radius='10 feet')"
   ]
  },
  {
   "cell_type": "code",
   "execution_count": 74,
   "metadata": {},
   "outputs": [],
   "source": [
    "code_block =\\\n",
    "\"\"\"\n",
    "def getAADT(a,b):\n",
    "   if not (a is None and b is None):\n",
    "        return b\n",
    "   elif (a is None and not b is None):\n",
    "        return b\n",
    "   elif (b is None and not a is None):\n",
    "        return a\n",
    "   else:\n",
    "        pass\n",
    "\"\"\""
   ]
  },
  {
   "cell_type": "code",
   "execution_count": 63,
   "metadata": {},
   "outputs": [],
   "source": [
    "#add one more field to get mean value of the aadt from gdot and cobb aadt data\n",
    "aadtallfld=[['AADTall','long']]\n",
    "_=arcpy.management.AddFields('CobbRoads_AADT_flow',aadtallfld)"
   ]
  },
  {
   "cell_type": "code",
   "execution_count": 75,
   "metadata": {},
   "outputs": [],
   "source": [
    "_=arcpy.management.CalculateField('CobbRoads_AADT_flow','AADTall','getAADT(!AADT!,!ADT!)',code_block=code_block)"
   ]
  },
  {
   "cell_type": "code",
   "execution_count": 76,
   "metadata": {},
   "outputs": [
    {
     "name": "stdout",
     "output_type": "stream",
     "text": [
      "['OBJECTID', 'Shape', 'Join_Count', 'TARGET_FID', 'Join_Count_1', 'TARGET_FID_1', 'TRANSSEGID', 'FUNCTIONALCLASS', 'NUMLANES', 'SPEED_LIMIT', 'LANE_TYPE', 'L_LADD', 'L_HADD', 'R_LADD', 'R_HADD', 'PREFIXDIR', 'ST_NAME', 'TYPE', 'SUFFIXDIR', 'QUAD', 'R_ZIP5', 'R_ZIP4', 'L_ZIP5', 'L_ZIP4', 'L_COMMUNIT', 'R_COMMUNIT', 'FROMTO_DIRECTION', 'TOFROM_DIRECTION', 'FROMEND_ELEV', 'TOENDELEV', 'HIERARCHY', 'DRIVETIME', 'ONEWAY', 'AM_ONEWAY', 'PM_ONEWAY', 'EDITOR', 'EDITDATE', 'DEPARTSOURCE', 'DATASOURCE', 'RECTIFIED', 'LIFECYCLE', 'FULLNAME', 'LENGTH', 'HWY_SHIELD', 'Jurisdiction', 'curv', 'ADT', 'AADT', 'AADTall', 'Avg_Slope', 'Shape_Length']\n"
     ]
    }
   ],
   "source": [
    "#add surface for each road within arcgis. This part will be computation heavy. Did this in desktop instead of python.\n",
    "print ([f.name for f in arcpy.ListFields('CobbRoads_AADT_flow')])"
   ]
  },
  {
   "cell_type": "code",
   "execution_count": 78,
   "metadata": {},
   "outputs": [],
   "source": [
    "#delete some fields\n",
    "del_fields=[\n",
    "    'Join_Count','TARGET_FID','Join_Count_1','TARGET_FID_1','L_LADD','L_HADD','R_LADD','R_HADD', \n",
    "    'PREFIXDIR','ST_NAME','TYPE','SUFFIXDIR','QUAD','R_ZIP5','R_ZIP4','L_ZIP5','L_ZIP4', \n",
    "    'L_COMMUNIT','R_COMMUNIT','FROMTO_DIRECTION','TOFROM_DIRECTION','FROMEND_ELEV','TOENDELEV', \n",
    "    'HIERARCHY','ONEWAY','AM_ONEWAY','PM_ONEWAY','EDITOR','EDITDATE','DEPARTSOURCE', \n",
    "    'DATASOURCE','RECTIFIED','LIFECYCLE','HWY_SHIELD','Jurisdiction','ADT', 'AADT'\n",
    "]"
   ]
  },
  {
   "cell_type": "code",
   "execution_count": 79,
   "metadata": {},
   "outputs": [],
   "source": [
    "_=arcpy.management.DeleteField('CobbRoads_AADT_flow',del_fields)"
   ]
  },
  {
   "cell_type": "code",
   "execution_count": 80,
   "metadata": {},
   "outputs": [
    {
     "name": "stdout",
     "output_type": "stream",
     "text": [
      "['OBJECTID', 'Shape', 'TRANSSEGID', 'FUNCTIONALCLASS', 'NUMLANES', 'SPEED_LIMIT', 'LANE_TYPE', 'ST_NAME', 'TYPE', 'DRIVETIME', 'FULLNAME', 'LENGTH', 'curv', 'AADTall', 'Avg_Slope', 'Shape_Length']\n"
     ]
    }
   ],
   "source": [
    "print ([f.name for f in arcpy.ListFields('CobbRoads_AADT_flow')])"
   ]
  },
  {
   "cell_type": "code",
   "execution_count": 7,
   "metadata": {},
   "outputs": [
    {
     "name": "stdout",
     "output_type": "stream",
     "text": [
      "['OBJECTID', 'Shape', 'Join_Count', 'TARGET_FID', 'ACCIDENTDATE', 'REPORTEDDATE', 'REPORTEDBY', 'UPDATED', 'UPDATEDBY', 'VEHICLES', 'INJURED', 'FATAL', 'SITE', 'ROADSURFACE', 'SEVERITY', 'WEATHER', 'TRAFFICFLOWTYPE', 'DESCRIPTION', 'CONTROLTYPE', 'LIGHTCONDITIONS', 'SPACING', 'QCLOCATION', 'QCREPORT', 'GEOCODED', 'ONROAD', 'INTERSECTION', 'ACCIDENTNUM', 'QCLOCATIONREASON', 'ICU', 'LOOPING', 'DATASOURCE', 'GEOCODEFLAG', 'NOTES', 'RMSID', 'IMP_ONROAD', 'IMP_INTERSECTION', 'DISTFROMINTERSECTION', 'DIRFROMINTERSECTION', 'V1_VEHICLETYPE', 'V2_VEHICLETYPE', 'V3_VEHICLETYPE', 'V4_VEHICLETYPE', 'V1_IMPACTPOINT', 'V2_IMPACTPOINT', 'V3_IMPACTPOINT', 'V4_IMPACTPOINT', 'V1_MOVEMENT', 'V2_MOVEMENT', 'V3_MOVEMENT', 'V4_MOVEMENT', 'V1_ESTSPEED', 'V2_ESTSPEED', 'V3_ESTSPEED', 'V4_ESTSPEED', 'V1_DRIVERCONDITION', 'V2_DRIVERCONDITION', 'V3_DRIVERCONDITION', 'V4_DRIVERCONDITION', 'V1_ALCOHOLTEST', 'V2_ALCOHOLTEST', 'V3_ALCOHOLTEST', 'V4_ALCOHOLTEST', 'V1_DRUGTEST', 'V2_DRUGTEST', 'V3_DRUGTEST', 'V4_DRUGTEST', 'V1_PEDMOVEMENT', 'V2_PEDMOVEMENT', 'V3_PEDMOVEMENT', 'V4_PEDMOVEMENT', 'V1_DIRECTION', 'V2_DIRECTION', 'V3_DIRECTION', 'V4_DIRECTION', 'V1_FACTOR1', 'V2_FACTOR1', 'V3_FACTOR1', 'V4_FACTOR1', 'V1_FACTOR2', 'V1_FACTOR3', 'V1_FACTOR4', 'V2_FACTOR2', 'V2_FACTOR3', 'V2_FACTOR4', 'V3_FACTOR2', 'V3_FACTOR3', 'V3_FACTOR4', 'V4_FACTOR2', 'V4_FACTOR3', 'V4_FACTOR4', 'V1_E1', 'V1_E2', 'V2_E1', 'V2_E2', 'V3_E1', 'V3_E2', 'V4_E1', 'V4_E2', 'V1_E1_MOSTHARMFUL', 'V1_E2_MOSTHARMFUL', 'V2_E1_MOSTHARMFUL', 'V2_E2_MOSTHARMFUL', 'V3_E1_MOSTHARMFUL', 'V3_E2_MOSTHARMFUL', 'V4_E1_MOSTHARMFUL', 'V4_E2_MOSTHARMFUL', 'DOT_E1', 'DOT_E2', 'EDITOR', 'EDITDATE', 'OFFICEQC', 'FATALINJUREQC', 'GEOCODERSERVER', 'REMOVED', 'pop_density', 'proximity_nearest_intersection']\n"
     ]
    }
   ],
   "source": [
    "print ([f.name for f in arcpy.ListFields('crash_3yr_with_pop')])"
   ]
  },
  {
   "cell_type": "code",
   "execution_count": 8,
   "metadata": {},
   "outputs": [],
   "source": [
    "#we need to delete some of null value fields and some driver condition fields \n",
    "delete_flds=['Join_Count','TARGET_FID','REPORTEDDATE','REPORTEDBY','UPDATED', \n",
    "             'UPDATEDBY','VEHICLES', 'INJURED', 'FATAL', 'SITE',\n",
    "             'QCLOCATION','QCREPORT','GEOCODED', 'SPACING','TRANSSEGID',\n",
    "             'ONROAD','DATASOURCE','GEOCODEFLAG','NOTES','RMSID','IMP_ONROAD',\n",
    "             'IMP_INTERSECTION','DISTFROMINTERSECTION','DIRFROMINTERSECTION','V1_VEHICLETYPE','V2_VEHICLETYPE',\n",
    "             'V3_VEHICLETYPE','V4_VEHICLETYPE', 'QCLOCATIONREASON','ICU','ACCIDENTNUM',\n",
    "             'V1_IMPACTPOINT','V2_IMPACTPOINT','V3_IMPACTPOINT','V4_IMPACTPOINT', \n",
    "             'V2_MOVEMENT','V3_MOVEMENT','V4_MOVEMENT','V1_ESTSPEED', \n",
    "             'V2_ESTSPEED','V3_ESTSPEED','V4_ESTSPEED','V1_DRIVERCONDITION','ST_NAME', \n",
    "             'V2_DRIVERCONDITION','V3_DRIVERCONDITION','V4_DRIVERCONDITION', \n",
    "             'V1_ALCOHOLTEST','V2_ALCOHOLTEST','V3_ALCOHOLTEST','V4_ALCOHOLTEST', \n",
    "             'V1_DRUGTEST','V2_DRUGTEST','V3_DRUGTEST','V4_DRUGTEST','V1_PEDMOVEMENT', \n",
    "             'V2_PEDMOVEMENT','V3_PEDMOVEMENT','V4_PEDMOVEMENT','V1_DIRECTION', \n",
    "             'V2_DIRECTION','V3_DIRECTION','V4_DIRECTION','V2_FACTOR1', 'LOOPING',\n",
    "             'V3_FACTOR1','V4_FACTOR1','V1_FACTOR2','V1_FACTOR3','V1_FACTOR4', \n",
    "             'V2_FACTOR2','V2_FACTOR3','V2_FACTOR4', 'V3_FACTOR2', 'V3_FACTOR3', \n",
    "             'V3_FACTOR4', 'V4_FACTOR2', 'V4_FACTOR3', 'V4_FACTOR4', 'V1_E2', \n",
    "             'V2_E2', 'V3_E1', 'V3_E2', 'V4_E1', 'V4_E2', 'V1_E1_MOSTHARMFUL', \n",
    "             'V1_E2_MOSTHARMFUL', 'V2_E1_MOSTHARMFUL', 'V2_E2_MOSTHARMFUL', 'V3_E1_MOSTHARMFUL', \n",
    "             'V3_E2_MOSTHARMFUL', 'V4_E1_MOSTHARMFUL', 'V4_E2_MOSTHARMFUL', 'DOT_E1', 'DOT_E2',\n",
    "             'EDITOR', 'EDITDATE', 'OFFICEQC', 'FATALINJUREQC', 'GEOCODERSERVER', 'REMOVED',\n",
    "             ]"
   ]
  },
  {
   "cell_type": "code",
   "execution_count": 9,
   "metadata": {},
   "outputs": [],
   "source": [
    "_=arcpy.management.DeleteField('crash_3yr_with_pop',delete_flds)"
   ]
  },
  {
   "cell_type": "code",
   "execution_count": 15,
   "metadata": {},
   "outputs": [
    {
     "name": "stdout",
     "output_type": "stream",
     "text": [
      "['OBJECTID', 'Shape', 'ACCIDENTDATE', 'ROADSURFACE', 'SEVERITY', 'WEATHER', 'TRAFFICFLOWTYPE', 'DESCRIPTION', 'CONTROLTYPE', 'LIGHTCONDITIONS', 'INTERSECTION', 'V1_MOVEMENT', 'V1_FACTOR1', 'V1_E1', 'V2_E1', 'pop_density', 'proximity_nearest_intersection']\n"
     ]
    }
   ],
   "source": [
    "print ([f.name for f in arcpy.ListFields('crash_3yr_with_pop')])"
   ]
  },
  {
   "cell_type": "code",
   "execution_count": 11,
   "metadata": {},
   "outputs": [],
   "source": [
    "#spatial join AADT to the CobbRoads\n",
    "_=arcpy.analysis.SpatialJoin('crash_3yr_with_pop','CobbRoads_AADT_flow','Crash_joined_3yr',\n",
    "                             join_type='KEEP_COMMON', match_option='closest', search_radius='100 feet')"
   ]
  },
  {
   "cell_type": "code",
   "execution_count": 12,
   "metadata": {},
   "outputs": [
    {
     "name": "stdout",
     "output_type": "stream",
     "text": [
      "['OBJECTID', 'Shape', 'Join_Count', 'TARGET_FID', 'ACCIDENTDATE', 'ROADSURFACE', 'SEVERITY', 'WEATHER', 'TRAFFICFLOWTYPE', 'DESCRIPTION', 'CONTROLTYPE', 'LIGHTCONDITIONS', 'INTERSECTION', 'V1_MOVEMENT', 'V1_FACTOR1', 'V1_E1', 'V2_E1', 'pop_density', 'proximity_nearest_intersection', 'TRANSSEGID', 'FUNCTIONALCLASS', 'NUMLANES', 'SPEED_LIMIT', 'LANE_TYPE', 'ST_NAME', 'TYPE', 'DRIVETIME', 'FULLNAME', 'LENGTH', 'curv', 'AADTall', 'Avg_Slope']\n"
     ]
    }
   ],
   "source": [
    "print ([f.name for f in arcpy.ListFields('Crash_joined_3yr')])"
   ]
  },
  {
   "cell_type": "code",
   "execution_count": 46,
   "metadata": {},
   "outputs": [],
   "source": [
    "_=arcpy.management.DeleteField('Crash_joined_3yr',['Join_Count','TRAFFICFLOWTYPE','INTERSECTION','TARGET_FID','V2_E1','TRANSSEGID','AADTall','ST_NAME','TYPE','DRIVETIME','FULLNAME'])"
   ]
  },
  {
   "cell_type": "code",
   "execution_count": 4,
   "metadata": {},
   "outputs": [],
   "source": [
    "import arcgis\n",
    "df=arcgis.features.GeoAccessor.from_featureclass('crash_joined_3yr')"
   ]
  },
  {
   "cell_type": "code",
   "execution_count": 5,
   "metadata": {},
   "outputs": [
    {
     "data": {
      "text/html": [
       "<div>\n",
       "<style scoped>\n",
       "    .dataframe tbody tr th:only-of-type {\n",
       "        vertical-align: middle;\n",
       "    }\n",
       "\n",
       "    .dataframe tbody tr th {\n",
       "        vertical-align: top;\n",
       "    }\n",
       "\n",
       "    .dataframe thead th {\n",
       "        text-align: right;\n",
       "    }\n",
       "</style>\n",
       "<table border=\"1\" class=\"dataframe\">\n",
       "  <thead>\n",
       "    <tr style=\"text-align: right;\">\n",
       "      <th></th>\n",
       "      <th>OBJECTID</th>\n",
       "      <th>ACCIDENTDATE</th>\n",
       "      <th>ROADSURFACE</th>\n",
       "      <th>SEVERITY</th>\n",
       "      <th>WEATHER</th>\n",
       "      <th>DESCRIPTION</th>\n",
       "      <th>CONTROLTYPE</th>\n",
       "      <th>LIGHTCONDITIONS</th>\n",
       "      <th>V1_MOVEMENT</th>\n",
       "      <th>V1_FACTOR1</th>\n",
       "      <th>...</th>\n",
       "      <th>pop_density</th>\n",
       "      <th>proximity_nearest_intersection</th>\n",
       "      <th>FUNCTIONALCLASS</th>\n",
       "      <th>NUMLANES</th>\n",
       "      <th>SPEED_LIMIT</th>\n",
       "      <th>LANE_TYPE</th>\n",
       "      <th>LENGTH</th>\n",
       "      <th>curv</th>\n",
       "      <th>Avg_Slope</th>\n",
       "      <th>SHAPE</th>\n",
       "    </tr>\n",
       "  </thead>\n",
       "  <tbody>\n",
       "    <tr>\n",
       "      <th>0</th>\n",
       "      <td>1</td>\n",
       "      <td>2018-03-18 23:10:00.000001</td>\n",
       "      <td>2.0</td>\n",
       "      <td>0.0</td>\n",
       "      <td>3.0</td>\n",
       "      <td>4.0</td>\n",
       "      <td>7.0</td>\n",
       "      <td>4.0</td>\n",
       "      <td>6.0</td>\n",
       "      <td>11.0</td>\n",
       "      <td>...</td>\n",
       "      <td>2136.585366</td>\n",
       "      <td>0.000000</td>\n",
       "      <td>MAJOR</td>\n",
       "      <td>4</td>\n",
       "      <td>25.0</td>\n",
       "      <td>1</td>\n",
       "      <td>496.87168</td>\n",
       "      <td>1.010868</td>\n",
       "      <td>9.374528</td>\n",
       "      <td>{\"x\": 2200251.299880162, \"y\": 1422066.99999782...</td>\n",
       "    </tr>\n",
       "    <tr>\n",
       "      <th>1</th>\n",
       "      <td>2</td>\n",
       "      <td>2018-03-18 22:31:00.000000</td>\n",
       "      <td>1.0</td>\n",
       "      <td>0.0</td>\n",
       "      <td>1.0</td>\n",
       "      <td>6.0</td>\n",
       "      <td>7.0</td>\n",
       "      <td>5.0</td>\n",
       "      <td>5.0</td>\n",
       "      <td>10.0</td>\n",
       "      <td>...</td>\n",
       "      <td>2178.181818</td>\n",
       "      <td>0.000000</td>\n",
       "      <td>MAJOR</td>\n",
       "      <td>2</td>\n",
       "      <td>35.0</td>\n",
       "      <td>1</td>\n",
       "      <td>140.24278</td>\n",
       "      <td>1.001089</td>\n",
       "      <td>7.413122</td>\n",
       "      <td>{\"x\": 2173367.799841497, \"y\": 1399011.09991548...</td>\n",
       "    </tr>\n",
       "    <tr>\n",
       "      <th>2</th>\n",
       "      <td>3</td>\n",
       "      <td>2018-03-18 21:56:00.000001</td>\n",
       "      <td>1.0</td>\n",
       "      <td>4.0</td>\n",
       "      <td>2.0</td>\n",
       "      <td>5.0</td>\n",
       "      <td>2.0</td>\n",
       "      <td>4.0</td>\n",
       "      <td>3.0</td>\n",
       "      <td>4.0</td>\n",
       "      <td>...</td>\n",
       "      <td>3075.581395</td>\n",
       "      <td>0.000000</td>\n",
       "      <td>MAJOR</td>\n",
       "      <td>2</td>\n",
       "      <td>35.0</td>\n",
       "      <td>1</td>\n",
       "      <td>44.20401</td>\n",
       "      <td>1.000000</td>\n",
       "      <td>31.375962</td>\n",
       "      <td>{\"x\": 2166057.800025828, \"y\": 1405272.50012232...</td>\n",
       "    </tr>\n",
       "    <tr>\n",
       "      <th>3</th>\n",
       "      <td>4</td>\n",
       "      <td>2018-03-18 17:02:00.000000</td>\n",
       "      <td>1.0</td>\n",
       "      <td>4.0</td>\n",
       "      <td>1.0</td>\n",
       "      <td>3.0</td>\n",
       "      <td>7.0</td>\n",
       "      <td>1.0</td>\n",
       "      <td>5.0</td>\n",
       "      <td>3.0</td>\n",
       "      <td>...</td>\n",
       "      <td>2075.000000</td>\n",
       "      <td>340.081911</td>\n",
       "      <td>INTERSTATE</td>\n",
       "      <td>-999</td>\n",
       "      <td>65.0</td>\n",
       "      <td>2</td>\n",
       "      <td>2688.72923</td>\n",
       "      <td>1.005217</td>\n",
       "      <td>8.160925</td>\n",
       "      <td>{\"x\": 2197852.34962558, \"y\": 1390927.089508742...</td>\n",
       "    </tr>\n",
       "    <tr>\n",
       "      <th>4</th>\n",
       "      <td>5</td>\n",
       "      <td>2018-03-18 17:27:00.000000</td>\n",
       "      <td>1.0</td>\n",
       "      <td>0.0</td>\n",
       "      <td>1.0</td>\n",
       "      <td>3.0</td>\n",
       "      <td>7.0</td>\n",
       "      <td>1.0</td>\n",
       "      <td>5.0</td>\n",
       "      <td>3.0</td>\n",
       "      <td>...</td>\n",
       "      <td>2075.000000</td>\n",
       "      <td>442.469009</td>\n",
       "      <td>INTERSTATE</td>\n",
       "      <td>-999</td>\n",
       "      <td>65.0</td>\n",
       "      <td>2</td>\n",
       "      <td>2688.72923</td>\n",
       "      <td>1.005217</td>\n",
       "      <td>8.160925</td>\n",
       "      <td>{\"x\": 2198188.9316295795, \"y\": 1391296.8066170...</td>\n",
       "    </tr>\n",
       "  </tbody>\n",
       "</table>\n",
       "<p>5 rows × 21 columns</p>\n",
       "</div>"
      ],
      "text/plain": [
       "   OBJECTID               ACCIDENTDATE  ROADSURFACE  SEVERITY  WEATHER  \\\n",
       "0         1 2018-03-18 23:10:00.000001          2.0       0.0      3.0   \n",
       "1         2 2018-03-18 22:31:00.000000          1.0       0.0      1.0   \n",
       "2         3 2018-03-18 21:56:00.000001          1.0       4.0      2.0   \n",
       "3         4 2018-03-18 17:02:00.000000          1.0       4.0      1.0   \n",
       "4         5 2018-03-18 17:27:00.000000          1.0       0.0      1.0   \n",
       "\n",
       "   DESCRIPTION  CONTROLTYPE  LIGHTCONDITIONS  V1_MOVEMENT  V1_FACTOR1  ...  \\\n",
       "0          4.0          7.0              4.0          6.0        11.0  ...   \n",
       "1          6.0          7.0              5.0          5.0        10.0  ...   \n",
       "2          5.0          2.0              4.0          3.0         4.0  ...   \n",
       "3          3.0          7.0              1.0          5.0         3.0  ...   \n",
       "4          3.0          7.0              1.0          5.0         3.0  ...   \n",
       "\n",
       "   pop_density  proximity_nearest_intersection  FUNCTIONALCLASS NUMLANES  \\\n",
       "0  2136.585366                        0.000000            MAJOR        4   \n",
       "1  2178.181818                        0.000000            MAJOR        2   \n",
       "2  3075.581395                        0.000000            MAJOR        2   \n",
       "3  2075.000000                      340.081911       INTERSTATE     -999   \n",
       "4  2075.000000                      442.469009       INTERSTATE     -999   \n",
       "\n",
       "   SPEED_LIMIT  LANE_TYPE      LENGTH      curv  Avg_Slope  \\\n",
       "0         25.0          1   496.87168  1.010868   9.374528   \n",
       "1         35.0          1   140.24278  1.001089   7.413122   \n",
       "2         35.0          1    44.20401  1.000000  31.375962   \n",
       "3         65.0          2  2688.72923  1.005217   8.160925   \n",
       "4         65.0          2  2688.72923  1.005217   8.160925   \n",
       "\n",
       "                                               SHAPE  \n",
       "0  {\"x\": 2200251.299880162, \"y\": 1422066.99999782...  \n",
       "1  {\"x\": 2173367.799841497, \"y\": 1399011.09991548...  \n",
       "2  {\"x\": 2166057.800025828, \"y\": 1405272.50012232...  \n",
       "3  {\"x\": 2197852.34962558, \"y\": 1390927.089508742...  \n",
       "4  {\"x\": 2198188.9316295795, \"y\": 1391296.8066170...  \n",
       "\n",
       "[5 rows x 21 columns]"
      ]
     },
     "execution_count": 5,
     "metadata": {},
     "output_type": "execute_result"
    }
   ],
   "source": [
    "df.head()"
   ]
  },
  {
   "cell_type": "code",
   "execution_count": 6,
   "metadata": {},
   "outputs": [
    {
     "data": {
      "text/plain": [
       "OBJECTID                             0\n",
       "ACCIDENTDATE                         0\n",
       "ROADSURFACE                        809\n",
       "SEVERITY                          1949\n",
       "WEATHER                           8624\n",
       "DESCRIPTION                        195\n",
       "CONTROLTYPE                       1515\n",
       "LIGHTCONDITIONS                    811\n",
       "V1_MOVEMENT                       1900\n",
       "V1_FACTOR1                        3754\n",
       "V1_E1                             1415\n",
       "pop_density                        208\n",
       "proximity_nearest_intersection       0\n",
       "FUNCTIONALCLASS                     39\n",
       "NUMLANES                             0\n",
       "SPEED_LIMIT                         18\n",
       "LANE_TYPE                            0\n",
       "LENGTH                               0\n",
       "curv                                 0\n",
       "Avg_Slope                            1\n",
       "SHAPE                                0\n",
       "dtype: int64"
      ]
     },
     "execution_count": 6,
     "metadata": {},
     "output_type": "execute_result"
    }
   ],
   "source": [
    "df.isnull().sum()"
   ]
  },
  {
   "cell_type": "code",
   "execution_count": 7,
   "metadata": {},
   "outputs": [
    {
     "data": {
      "text/plain": [
       "(74431, 21)"
      ]
     },
     "execution_count": 7,
     "metadata": {},
     "output_type": "execute_result"
    }
   ],
   "source": [
    "df.shape"
   ]
  },
  {
   "cell_type": "code",
   "execution_count": 8,
   "metadata": {},
   "outputs": [],
   "source": [
    "df['SPEED_LIMIT'].fillna(df['SPEED_LIMIT'].median(), inplace=True)"
   ]
  },
  {
   "cell_type": "code",
   "execution_count": 9,
   "metadata": {},
   "outputs": [],
   "source": [
    "df2 = df.dropna()"
   ]
  },
  {
   "cell_type": "code",
   "execution_count": 10,
   "metadata": {},
   "outputs": [
    {
     "data": {
      "text/plain": [
       "(61499, 21)"
      ]
     },
     "execution_count": 10,
     "metadata": {},
     "output_type": "execute_result"
    }
   ],
   "source": [
    "df2.shape"
   ]
  },
  {
   "cell_type": "code",
   "execution_count": 11,
   "metadata": {},
   "outputs": [
    {
     "data": {
      "text/plain": [
       "OBJECTID                          0\n",
       "ACCIDENTDATE                      0\n",
       "ROADSURFACE                       0\n",
       "SEVERITY                          0\n",
       "WEATHER                           0\n",
       "DESCRIPTION                       0\n",
       "CONTROLTYPE                       0\n",
       "LIGHTCONDITIONS                   0\n",
       "V1_MOVEMENT                       0\n",
       "V1_FACTOR1                        0\n",
       "V1_E1                             0\n",
       "pop_density                       0\n",
       "proximity_nearest_intersection    0\n",
       "FUNCTIONALCLASS                   0\n",
       "NUMLANES                          0\n",
       "SPEED_LIMIT                       0\n",
       "LANE_TYPE                         0\n",
       "LENGTH                            0\n",
       "curv                              0\n",
       "Avg_Slope                         0\n",
       "SHAPE                             0\n",
       "dtype: int64"
      ]
     },
     "execution_count": 11,
     "metadata": {},
     "output_type": "execute_result"
    }
   ],
   "source": [
    "df2.isnull().sum()"
   ]
  },
  {
   "cell_type": "code",
   "execution_count": 13,
   "metadata": {},
   "outputs": [
    {
     "name": "stderr",
     "output_type": "stream",
     "text": [
      "C:\\Users\\zhangc\\AppData\\Local\\ESRI\\conda\\envs\\sparkesri\\lib\\site-packages\\ipykernel_launcher.py:1: SettingWithCopyWarning: \n",
      "A value is trying to be set on a copy of a slice from a DataFrame.\n",
      "Try using .loc[row_indexer,col_indexer] = value instead\n",
      "\n",
      "See the caveats in the documentation: https://pandas.pydata.org/pandas-docs/stable/user_guide/indexing.html#returning-a-view-versus-a-copy\n",
      "  \"\"\"Entry point for launching an IPython kernel.\n",
      "C:\\Users\\zhangc\\AppData\\Local\\ESRI\\conda\\envs\\sparkesri\\lib\\site-packages\\pandas\\core\\indexing.py:966: SettingWithCopyWarning: \n",
      "A value is trying to be set on a copy of a slice from a DataFrame.\n",
      "Try using .loc[row_indexer,col_indexer] = value instead\n",
      "\n",
      "See the caveats in the documentation: https://pandas.pydata.org/pandas-docs/stable/user_guide/indexing.html#returning-a-view-versus-a-copy\n",
      "  self.obj[item] = s\n"
     ]
    }
   ],
   "source": [
    "df2['RIGHTANGLE']=1.0\n",
    "df2.loc[df2['DESCRIPTION']>1,'RIGHTANGLE']=0.0"
   ]
  },
  {
   "cell_type": "code",
   "execution_count": 14,
   "metadata": {},
   "outputs": [],
   "source": [
    "df2.loc[df['NUMLANES']==-999,'NUMLANES']=6 #interstate "
   ]
  },
  {
   "cell_type": "code",
   "execution_count": 15,
   "metadata": {},
   "outputs": [],
   "source": [
    "#this idea came from Daniel's github notebook althogh the new version is much different.\n",
    "l = LocationInfo(\"Atlanta\", \"USA\", \"US/Eastern\", 33.7490, -84.3880)\n",
    "\n",
    "l.solar_depression = 'civil'\n",
    "\n",
    "def solar_azimuth(x):\n",
    "    try:\n",
    "        return astral.sun.azimuth(l.observer,x)\n",
    "    except:\n",
    "        np.nan\n",
    "def solar_elevation(x):\n",
    "    try:\n",
    "        return astral.sun.elevation(l.observer,x)\n",
    "    except:\n",
    "        return np.nan\n"
   ]
  },
  {
   "cell_type": "code",
   "execution_count": 17,
   "metadata": {},
   "outputs": [
    {
     "name": "stderr",
     "output_type": "stream",
     "text": [
      "C:\\Users\\zhangc\\AppData\\Local\\ESRI\\conda\\envs\\sparkesri\\lib\\site-packages\\ipykernel_launcher.py:1: SettingWithCopyWarning: \n",
      "A value is trying to be set on a copy of a slice from a DataFrame.\n",
      "Try using .loc[row_indexer,col_indexer] = value instead\n",
      "\n",
      "See the caveats in the documentation: https://pandas.pydata.org/pandas-docs/stable/user_guide/indexing.html#returning-a-view-versus-a-copy\n",
      "  \"\"\"Entry point for launching an IPython kernel.\n",
      "C:\\Users\\zhangc\\AppData\\Local\\ESRI\\conda\\envs\\sparkesri\\lib\\site-packages\\ipykernel_launcher.py:2: SettingWithCopyWarning: \n",
      "A value is trying to be set on a copy of a slice from a DataFrame.\n",
      "Try using .loc[row_indexer,col_indexer] = value instead\n",
      "\n",
      "See the caveats in the documentation: https://pandas.pydata.org/pandas-docs/stable/user_guide/indexing.html#returning-a-view-versus-a-copy\n",
      "  \n"
     ]
    }
   ],
   "source": [
    "df2['solar_azimuth']=pd.DatetimeIndex(df2.ACCIDENTDATE).map(solar_azimuth)\n",
    "df2['solar_elevation']=pd.DatetimeIndex(df2.ACCIDENTDATE).map(solar_elevation)"
   ]
  },
  {
   "cell_type": "code",
   "execution_count": 18,
   "metadata": {},
   "outputs": [
    {
     "data": {
      "text/html": [
       "<div>\n",
       "<style scoped>\n",
       "    .dataframe tbody tr th:only-of-type {\n",
       "        vertical-align: middle;\n",
       "    }\n",
       "\n",
       "    .dataframe tbody tr th {\n",
       "        vertical-align: top;\n",
       "    }\n",
       "\n",
       "    .dataframe thead th {\n",
       "        text-align: right;\n",
       "    }\n",
       "</style>\n",
       "<table border=\"1\" class=\"dataframe\">\n",
       "  <thead>\n",
       "    <tr style=\"text-align: right;\">\n",
       "      <th></th>\n",
       "      <th>OBJECTID</th>\n",
       "      <th>ACCIDENTDATE</th>\n",
       "      <th>ROADSURFACE</th>\n",
       "      <th>SEVERITY</th>\n",
       "      <th>WEATHER</th>\n",
       "      <th>DESCRIPTION</th>\n",
       "      <th>CONTROLTYPE</th>\n",
       "      <th>LIGHTCONDITIONS</th>\n",
       "      <th>V1_MOVEMENT</th>\n",
       "      <th>V1_FACTOR1</th>\n",
       "      <th>...</th>\n",
       "      <th>NUMLANES</th>\n",
       "      <th>SPEED_LIMIT</th>\n",
       "      <th>LANE_TYPE</th>\n",
       "      <th>LENGTH</th>\n",
       "      <th>curv</th>\n",
       "      <th>Avg_Slope</th>\n",
       "      <th>SHAPE</th>\n",
       "      <th>RIGHTANGLE</th>\n",
       "      <th>solar_azimuth</th>\n",
       "      <th>solar_elevation</th>\n",
       "    </tr>\n",
       "  </thead>\n",
       "  <tbody>\n",
       "    <tr>\n",
       "      <th>0</th>\n",
       "      <td>1</td>\n",
       "      <td>2018-03-18 23:10:00.000001</td>\n",
       "      <td>2.0</td>\n",
       "      <td>0.0</td>\n",
       "      <td>3.0</td>\n",
       "      <td>4.0</td>\n",
       "      <td>7.0</td>\n",
       "      <td>4.0</td>\n",
       "      <td>6.0</td>\n",
       "      <td>11.0</td>\n",
       "      <td>...</td>\n",
       "      <td>4</td>\n",
       "      <td>25.0</td>\n",
       "      <td>1</td>\n",
       "      <td>496.87168</td>\n",
       "      <td>1.010868</td>\n",
       "      <td>9.374528</td>\n",
       "      <td>{\"x\": 2200251.299880162, \"y\": 1422066.99999782...</td>\n",
       "      <td>0.0</td>\n",
       "      <td>264.483218</td>\n",
       "      <td>7.105017</td>\n",
       "    </tr>\n",
       "    <tr>\n",
       "      <th>1</th>\n",
       "      <td>2</td>\n",
       "      <td>2018-03-18 22:31:00.000000</td>\n",
       "      <td>1.0</td>\n",
       "      <td>0.0</td>\n",
       "      <td>1.0</td>\n",
       "      <td>6.0</td>\n",
       "      <td>7.0</td>\n",
       "      <td>5.0</td>\n",
       "      <td>5.0</td>\n",
       "      <td>10.0</td>\n",
       "      <td>...</td>\n",
       "      <td>2</td>\n",
       "      <td>35.0</td>\n",
       "      <td>1</td>\n",
       "      <td>140.24278</td>\n",
       "      <td>1.001089</td>\n",
       "      <td>7.413122</td>\n",
       "      <td>{\"x\": 2173367.799841497, \"y\": 1399011.09991548...</td>\n",
       "      <td>0.0</td>\n",
       "      <td>258.818460</td>\n",
       "      <td>15.056053</td>\n",
       "    </tr>\n",
       "    <tr>\n",
       "      <th>2</th>\n",
       "      <td>3</td>\n",
       "      <td>2018-03-18 21:56:00.000001</td>\n",
       "      <td>1.0</td>\n",
       "      <td>4.0</td>\n",
       "      <td>2.0</td>\n",
       "      <td>5.0</td>\n",
       "      <td>2.0</td>\n",
       "      <td>4.0</td>\n",
       "      <td>3.0</td>\n",
       "      <td>4.0</td>\n",
       "      <td>...</td>\n",
       "      <td>2</td>\n",
       "      <td>35.0</td>\n",
       "      <td>1</td>\n",
       "      <td>44.20401</td>\n",
       "      <td>1.000000</td>\n",
       "      <td>31.375962</td>\n",
       "      <td>{\"x\": 2166057.800025828, \"y\": 1405272.50012232...</td>\n",
       "      <td>0.0</td>\n",
       "      <td>253.354698</td>\n",
       "      <td>22.092605</td>\n",
       "    </tr>\n",
       "    <tr>\n",
       "      <th>3</th>\n",
       "      <td>4</td>\n",
       "      <td>2018-03-18 17:02:00.000000</td>\n",
       "      <td>1.0</td>\n",
       "      <td>4.0</td>\n",
       "      <td>1.0</td>\n",
       "      <td>3.0</td>\n",
       "      <td>7.0</td>\n",
       "      <td>1.0</td>\n",
       "      <td>5.0</td>\n",
       "      <td>3.0</td>\n",
       "      <td>...</td>\n",
       "      <td>6</td>\n",
       "      <td>65.0</td>\n",
       "      <td>2</td>\n",
       "      <td>2688.72923</td>\n",
       "      <td>1.005217</td>\n",
       "      <td>8.160925</td>\n",
       "      <td>{\"x\": 2197852.34962558, \"y\": 1390927.089508742...</td>\n",
       "      <td>0.0</td>\n",
       "      <td>161.268741</td>\n",
       "      <td>54.001393</td>\n",
       "    </tr>\n",
       "    <tr>\n",
       "      <th>4</th>\n",
       "      <td>5</td>\n",
       "      <td>2018-03-18 17:27:00.000000</td>\n",
       "      <td>1.0</td>\n",
       "      <td>0.0</td>\n",
       "      <td>1.0</td>\n",
       "      <td>3.0</td>\n",
       "      <td>7.0</td>\n",
       "      <td>1.0</td>\n",
       "      <td>5.0</td>\n",
       "      <td>3.0</td>\n",
       "      <td>...</td>\n",
       "      <td>6</td>\n",
       "      <td>65.0</td>\n",
       "      <td>2</td>\n",
       "      <td>2688.72923</td>\n",
       "      <td>1.005217</td>\n",
       "      <td>8.160925</td>\n",
       "      <td>{\"x\": 2198188.9316295795, \"y\": 1391296.8066170...</td>\n",
       "      <td>0.0</td>\n",
       "      <td>171.863581</td>\n",
       "      <td>55.218132</td>\n",
       "    </tr>\n",
       "  </tbody>\n",
       "</table>\n",
       "<p>5 rows × 24 columns</p>\n",
       "</div>"
      ],
      "text/plain": [
       "   OBJECTID               ACCIDENTDATE  ROADSURFACE  SEVERITY  WEATHER  \\\n",
       "0         1 2018-03-18 23:10:00.000001          2.0       0.0      3.0   \n",
       "1         2 2018-03-18 22:31:00.000000          1.0       0.0      1.0   \n",
       "2         3 2018-03-18 21:56:00.000001          1.0       4.0      2.0   \n",
       "3         4 2018-03-18 17:02:00.000000          1.0       4.0      1.0   \n",
       "4         5 2018-03-18 17:27:00.000000          1.0       0.0      1.0   \n",
       "\n",
       "   DESCRIPTION  CONTROLTYPE  LIGHTCONDITIONS  V1_MOVEMENT  V1_FACTOR1  ...  \\\n",
       "0          4.0          7.0              4.0          6.0        11.0  ...   \n",
       "1          6.0          7.0              5.0          5.0        10.0  ...   \n",
       "2          5.0          2.0              4.0          3.0         4.0  ...   \n",
       "3          3.0          7.0              1.0          5.0         3.0  ...   \n",
       "4          3.0          7.0              1.0          5.0         3.0  ...   \n",
       "\n",
       "   NUMLANES  SPEED_LIMIT  LANE_TYPE      LENGTH      curv  Avg_Slope  \\\n",
       "0         4         25.0          1   496.87168  1.010868   9.374528   \n",
       "1         2         35.0          1   140.24278  1.001089   7.413122   \n",
       "2         2         35.0          1    44.20401  1.000000  31.375962   \n",
       "3         6         65.0          2  2688.72923  1.005217   8.160925   \n",
       "4         6         65.0          2  2688.72923  1.005217   8.160925   \n",
       "\n",
       "                                               SHAPE  RIGHTANGLE  \\\n",
       "0  {\"x\": 2200251.299880162, \"y\": 1422066.99999782...         0.0   \n",
       "1  {\"x\": 2173367.799841497, \"y\": 1399011.09991548...         0.0   \n",
       "2  {\"x\": 2166057.800025828, \"y\": 1405272.50012232...         0.0   \n",
       "3  {\"x\": 2197852.34962558, \"y\": 1390927.089508742...         0.0   \n",
       "4  {\"x\": 2198188.9316295795, \"y\": 1391296.8066170...         0.0   \n",
       "\n",
       "   solar_azimuth  solar_elevation  \n",
       "0     264.483218         7.105017  \n",
       "1     258.818460        15.056053  \n",
       "2     253.354698        22.092605  \n",
       "3     161.268741        54.001393  \n",
       "4     171.863581        55.218132  \n",
       "\n",
       "[5 rows x 24 columns]"
      ]
     },
     "execution_count": 18,
     "metadata": {},
     "output_type": "execute_result"
    }
   ],
   "source": [
    "df2.head()"
   ]
  },
  {
   "cell_type": "code",
   "execution_count": 19,
   "metadata": {},
   "outputs": [],
   "source": [
    "df2.to_csv('trainingData/rightAnglecrash.csv')"
   ]
  },
  {
   "cell_type": "code",
   "execution_count": 57,
   "metadata": {},
   "outputs": [
    {
     "name": "stderr",
     "output_type": "stream",
     "text": [
      "C:\\Users\\zhangc\\AppData\\Local\\ESRI\\conda\\envs\\sparkesri\\lib\\site-packages\\pandas\\core\\indexing.py:966: SettingWithCopyWarning: \n",
      "A value is trying to be set on a copy of a slice from a DataFrame.\n",
      "Try using .loc[row_indexer,col_indexer] = value instead\n",
      "\n",
      "See the caveats in the documentation: https://pandas.pydata.org/pandas-docs/stable/user_guide/indexing.html#returning-a-view-versus-a-copy\n",
      "  self.obj[item] = s\n"
     ]
    },
    {
     "data": {
      "text/plain": [
       "'C:\\\\projects\\\\ESRICrash\\\\CrashAnalysisDOT\\\\CobbCrashAnalysis\\\\CobbCrashAnalysis.gdb\\\\rightangleRFS'"
      ]
     },
     "execution_count": 57,
     "metadata": {},
     "output_type": "execute_result"
    }
   ],
   "source": [
    "df2.spatial.to_featureclass(location=os.path.join(prjPath,'rightangleRFS'), overwrite=True)"
   ]
  },
  {
   "cell_type": "code",
   "execution_count": 58,
   "metadata": {},
   "outputs": [
    {
     "name": "stdout",
     "output_type": "stream",
     "text": [
      "2.4.1\n"
     ]
    }
   ],
   "source": []
  }
 ],
 "metadata": {
  "kernelspec": {
   "display_name": "Python 3",
   "language": "python",
   "name": "python3"
  },
  "language_info": {
   "codemirror_mode": {
    "name": "ipython",
    "version": 3
   },
   "file_extension": ".py",
   "mimetype": "text/x-python",
   "name": "python",
   "nbconvert_exporter": "python",
   "pygments_lexer": "ipython3",
   "version": "3.6.10"
  }
 },
 "nbformat": 4,
 "nbformat_minor": 4
}
